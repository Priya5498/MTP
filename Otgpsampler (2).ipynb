{
 "cells": [
  {
   "cell_type": "code",
   "execution_count": 1,
   "metadata": {
    "id": "0L2olUILf6yU"
   },
   "outputs": [
    {
     "name": "stdout",
     "output_type": "stream",
     "text": [
      "Requirement already satisfied: cobra in c:\\users\\priya\\anaconda3\\lib\\site-packages (0.29.0)\n",
      "Requirement already satisfied: httpx~=0.24 in c:\\users\\priya\\anaconda3\\lib\\site-packages (from cobra) (0.26.0)\n",
      "Requirement already satisfied: optlang~=1.8 in c:\\users\\priya\\anaconda3\\lib\\site-packages (from cobra) (1.8.1)\n",
      "Requirement already satisfied: importlib-resources in c:\\users\\priya\\anaconda3\\lib\\site-packages (from cobra) (6.1.1)\n",
      "Requirement already satisfied: depinfo~=2.2 in c:\\users\\priya\\anaconda3\\lib\\site-packages (from cobra) (2.2.0)\n",
      "Requirement already satisfied: diskcache~=5.0 in c:\\users\\priya\\anaconda3\\lib\\site-packages (from cobra) (5.6.3)\n",
      "Requirement already satisfied: rich>=8.0 in c:\\users\\priya\\anaconda3\\lib\\site-packages (from cobra) (13.7.0)\n",
      "Requirement already satisfied: pydantic>=1.6 in c:\\users\\priya\\anaconda3\\lib\\site-packages (from cobra) (2.6.0)\n",
      "Requirement already satisfied: appdirs~=1.4 in c:\\users\\priya\\anaconda3\\lib\\site-packages (from cobra) (1.4.4)\n",
      "Requirement already satisfied: python-libsbml~=5.19 in c:\\users\\priya\\anaconda3\\lib\\site-packages (from cobra) (5.20.2)\n",
      "Requirement already satisfied: ruamel.yaml~=0.16 in c:\\users\\priya\\anaconda3\\lib\\site-packages (from cobra) (0.18.5)\n",
      "Requirement already satisfied: numpy>=1.13 in c:\\users\\priya\\anaconda3\\lib\\site-packages (from cobra) (1.21.5)\n",
      "Requirement already satisfied: future in c:\\users\\priya\\anaconda3\\lib\\site-packages (from cobra) (0.18.2)\n",
      "Requirement already satisfied: swiglpk in c:\\users\\priya\\anaconda3\\lib\\site-packages (from cobra) (5.0.10)\n",
      "Requirement already satisfied: pandas<3.0,>=1.0 in c:\\users\\priya\\anaconda3\\lib\\site-packages (from cobra) (1.4.4)\n",
      "Requirement already satisfied: anyio in c:\\users\\priya\\anaconda3\\lib\\site-packages (from httpx~=0.24->cobra) (3.5.0)\n",
      "Requirement already satisfied: certifi in c:\\users\\priya\\anaconda3\\lib\\site-packages (from httpx~=0.24->cobra) (2022.9.14)\n",
      "Requirement already satisfied: sniffio in c:\\users\\priya\\anaconda3\\lib\\site-packages (from httpx~=0.24->cobra) (1.2.0)\n",
      "Requirement already satisfied: idna in c:\\users\\priya\\anaconda3\\lib\\site-packages (from httpx~=0.24->cobra) (3.3)\n",
      "Requirement already satisfied: httpcore==1.* in c:\\users\\priya\\anaconda3\\lib\\site-packages (from httpx~=0.24->cobra) (1.0.2)\n",
      "Requirement already satisfied: h11<0.15,>=0.13 in c:\\users\\priya\\anaconda3\\lib\\site-packages (from httpcore==1.*->httpx~=0.24->cobra) (0.14.0)\n",
      "Requirement already satisfied: six>=1.9 in c:\\users\\priya\\anaconda3\\lib\\site-packages (from optlang~=1.8->cobra) (1.16.0)\n",
      "Requirement already satisfied: sympy>=1.12.0 in c:\\users\\priya\\anaconda3\\lib\\site-packages (from optlang~=1.8->cobra) (1.12)\n",
      "Requirement already satisfied: python-dateutil>=2.8.1 in c:\\users\\priya\\anaconda3\\lib\\site-packages (from pandas<3.0,>=1.0->cobra) (2.8.2)\n",
      "Requirement already satisfied: pytz>=2020.1 in c:\\users\\priya\\anaconda3\\lib\\site-packages (from pandas<3.0,>=1.0->cobra) (2022.1)\n",
      "Requirement already satisfied: annotated-types>=0.4.0 in c:\\users\\priya\\anaconda3\\lib\\site-packages (from pydantic>=1.6->cobra) (0.6.0)\n",
      "Requirement already satisfied: pydantic-core==2.16.1 in c:\\users\\priya\\anaconda3\\lib\\site-packages (from pydantic>=1.6->cobra) (2.16.1)\n",
      "Requirement already satisfied: typing-extensions>=4.6.1 in c:\\users\\priya\\anaconda3\\lib\\site-packages (from pydantic>=1.6->cobra) (4.9.0)\n",
      "Requirement already satisfied: markdown-it-py>=2.2.0 in c:\\users\\priya\\anaconda3\\lib\\site-packages (from rich>=8.0->cobra) (3.0.0)\n",
      "Requirement already satisfied: pygments<3.0.0,>=2.13.0 in c:\\users\\priya\\anaconda3\\lib\\site-packages (from rich>=8.0->cobra) (2.17.2)\n",
      "Requirement already satisfied: ruamel.yaml.clib>=0.2.7 in c:\\users\\priya\\anaconda3\\lib\\site-packages (from ruamel.yaml~=0.16->cobra) (0.2.8)\n",
      "Requirement already satisfied: zipp>=3.1.0 in c:\\users\\priya\\anaconda3\\lib\\site-packages (from importlib-resources->cobra) (3.8.0)\n",
      "Requirement already satisfied: mdurl~=0.1 in c:\\users\\priya\\anaconda3\\lib\\site-packages (from markdown-it-py>=2.2.0->rich>=8.0->cobra) (0.1.2)\n",
      "Requirement already satisfied: mpmath>=0.19 in c:\\users\\priya\\anaconda3\\lib\\site-packages (from sympy>=1.12.0->optlang~=1.8->cobra) (1.2.1)\n",
      "Note: you may need to restart the kernel to use updated packages.\n"
     ]
    }
   ],
   "source": [
    "pip install cobra"
   ]
  },
  {
   "cell_type": "code",
   "execution_count": 2,
   "metadata": {
    "id": "L88mfLAaxso7"
   },
   "outputs": [],
   "source": [
    "from cobra.io import load_matlab_model\n",
    "from cobra.sampling import sample\n",
    "from cobra.sampling import OptGPSampler\n",
    "import pandas as pd"
   ]
  },
  {
   "cell_type": "code",
   "execution_count": 3,
   "metadata": {
    "colab": {
     "base_uri": "https://localhost:8080/"
    },
    "id": "El4711U8te5i",
    "outputId": "52b0e21e-ad7d-40c4-f7d0-781b23dab387"
   },
   "outputs": [
    {
     "name": "stderr",
     "output_type": "stream",
     "text": [
      "No defined compartments in model RS_g5_ctrl. Compartments will be deduced heuristically using regular expressions.\n",
      "Using regular expression found the following compartments:c, e, g, l, m, n, r, v, x\n"
     ]
    }
   ],
   "source": [
    "model = load_matlab_model('RS_g5_ctrl.mat') # name of the model"
   ]
  },
  {
   "cell_type": "code",
   "execution_count": null,
   "metadata": {
    "id": "zO9q0tdPthCi"
   },
   "outputs": [],
   "source": [
    "optgp = OptGPSampler(model, thinning = int(1000),processes=-1, seed = 5)\n",
    "samples =optgp.sample(50000) # number of samples"
   ]
  },
  {
   "cell_type": "code",
   "execution_count": null,
   "metadata": {
    "id": "pA6u5Gy1M1_O"
   },
   "outputs": [],
   "source": [
    "samples.to_csv('samples_g5_ctrl.csv',index=False)"
   ]
  },
  {
   "cell_type": "code",
   "execution_count": 29,
   "metadata": {
    "id": "xEjdb8UFNYHv"
   },
   "outputs": [
    {
     "name": "stderr",
     "output_type": "stream",
     "text": [
      "No defined compartments in model RS_g5_MG. Compartments will be deduced heuristically using regular expressions.\n",
      "Using regular expression found the following compartments:c, e, g, l, m, n, r, v, x\n"
     ]
    }
   ],
   "source": [
    "model1 = load_matlab_model('RS_g5_MG.mat') \n",
    "optgp1 = OptGPSampler(model1, thinning = int(1000),processes=-1, seed = 5)\n",
    "samples1 =optgp1.sample(50000) # number of samples\n"
   ]
  },
  {
   "cell_type": "code",
   "execution_count": 30,
   "metadata": {},
   "outputs": [],
   "source": [
    "samples1.to_csv('samples_g5_MG.csv',index=False)"
   ]
  },
  {
   "cell_type": "code",
   "execution_count": 26,
   "metadata": {},
   "outputs": [
    {
     "name": "stderr",
     "output_type": "stream",
     "text": [
      "No defined compartments in model RS_g25_ctrl. Compartments will be deduced heuristically using regular expressions.\n",
      "Using regular expression found the following compartments:c, e, g, l, m, n, r, v, x\n"
     ]
    }
   ],
   "source": [
    "model2 = load_matlab_model('RS_g25_ctrl.mat') \n",
    "optgp2 = OptGPSampler(model2, thinning = int(1000),processes=-1, seed = 5)\n",
    "samples2 =optgp2.sample(50000) # number of samples\n"
   ]
  },
  {
   "cell_type": "code",
   "execution_count": 27,
   "metadata": {},
   "outputs": [],
   "source": [
    "samples2.to_csv('samples_g25_ctrl.csv',index=False)"
   ]
  },
  {
   "cell_type": "code",
   "execution_count": 10,
   "metadata": {},
   "outputs": [
    {
     "name": "stderr",
     "output_type": "stream",
     "text": [
      "No defined compartments in model RS_g25_MG. Compartments will be deduced heuristically using regular expressions.\n",
      "Using regular expression found the following compartments:c, e, g, l, m, n, r, v, x\n"
     ]
    }
   ],
   "source": [
    "model3 = load_matlab_model('RS_g25_MG.mat') \n",
    "optgp3 = OptGPSampler(model3, thinning = int(1000),processes=-1, seed = 5)\n",
    "samples3 =optgp.sample(50000) # number of samples\n"
   ]
  },
  {
   "cell_type": "code",
   "execution_count": 11,
   "metadata": {},
   "outputs": [],
   "source": [
    "samples3.to_csv('samples_g25_MG.csv',index=False)"
   ]
  },
  {
   "cell_type": "code",
   "execution_count": null,
   "metadata": {},
   "outputs": [],
   "source": []
  }
 ],
 "metadata": {
  "colab": {
   "provenance": []
  },
  "kernelspec": {
   "display_name": "Python 3 (ipykernel)",
   "language": "python",
   "name": "python3"
  },
  "language_info": {
   "codemirror_mode": {
    "name": "ipython",
    "version": 3
   },
   "file_extension": ".py",
   "mimetype": "text/x-python",
   "name": "python",
   "nbconvert_exporter": "python",
   "pygments_lexer": "ipython3",
   "version": "3.9.13"
  }
 },
 "nbformat": 4,
 "nbformat_minor": 1
}
